{
  "nbformat": 4,
  "nbformat_minor": 0,
  "metadata": {
    "colab": {
      "name": "sudoku solver",
      "provenance": [],
      "collapsed_sections": [],
      "toc_visible": true,
      "include_colab_link": true
    },
    "kernelspec": {
      "name": "python3",
      "display_name": "Python 3"
    }
  },
  "cells": [
    {
      "cell_type": "markdown",
      "metadata": {
        "id": "view-in-github",
        "colab_type": "text"
      },
      "source": [
        "<a href=\"https://colab.research.google.com/github/Mbonea-Mjema/Sudoku-Solver-Machine-vision/blob/master/sudoku_solver.ipynb\" target=\"_parent\"><img src=\"https://colab.research.google.com/assets/colab-badge.svg\" alt=\"Open In Colab\"/></a>"
      ]
    },
    {
      "cell_type": "code",
      "metadata": {
        "id": "LtzkFm_IVg-Q",
        "colab_type": "code",
        "colab": {}
      },
      "source": [
        "#To do list\n",
        "# - install the required modules\n",
        "# - find the grid\n",
        "# - get the grid values\n",
        "# - put the values in a matrix of somesort\n",
        "# - solve the sudoku puzzle\n",
        "# - write the answers you got\n",
        "\n",
        "\n"
      ],
      "execution_count": 0,
      "outputs": []
    },
    {
      "cell_type": "markdown",
      "metadata": {
        "id": "f8oZ_y-SNoJ6",
        "colab_type": "text"
      },
      "source": [
        "# Install the required modules"
      ]
    },
    {
      "cell_type": "code",
      "metadata": {
        "id": "Z-MboUr6NvSC",
        "colab_type": "code",
        "colab": {}
      },
      "source": [
        "!pip3 install mnist\n",
        "!sudo apt-get install aria2c"
      ],
      "execution_count": 0,
      "outputs": []
    },
    {
      "cell_type": "markdown",
      "metadata": {
        "id": "kAmvK_9mZdb2",
        "colab_type": "text"
      },
      "source": [
        "## **Download the required files**"
      ]
    },
    {
      "cell_type": "code",
      "metadata": {
        "id": "mh2uD8sIZxxf",
        "colab_type": "code",
        "colab": {}
      },
      "source": [
        "!wget https://upload.wikimedia.org/wikipedia/commons/thumb/e/e0/Sudoku_Puzzle_by_L2G-20050714_standardized_layout.svg/1200px-Sudoku_Puzzle_by_L2G-20050714_standardized_layout.svg.png -O sudoku.png\n",
        "#!wget https://thousandislandslife.com/content/images/2019/06/Puzzle-54.JPG -O sudoku.jpg\n",
        "!wget -qO- http://www.ee.surrey.ac.uk/CVSSP/demos/chars74k/EnglishFnt.tgz | tar zxvf -\n"
      ],
      "execution_count": 0,
      "outputs": []
    },
    {
      "cell_type": "code",
      "metadata": {
        "id": "gV_WsJf9q-4f",
        "colab_type": "code",
        "colab": {}
      },
      "source": [
        ""
      ],
      "execution_count": 0,
      "outputs": []
    },
    {
      "cell_type": "code",
      "metadata": {
        "id": "qHoTjRt7WRBE",
        "colab_type": "code",
        "outputId": "61a7cfcb-7c05-4445-a3bc-3c6928d965cb",
        "colab": {
          "base_uri": "https://localhost:8080/",
          "height": 269
        }
      },
      "source": [
        "import PIL\n",
        "import cv2\n",
        "from google.colab.patches import cv2_imshow\n",
        "from numpy import array\n",
        "from PIL import Image\n",
        "from PIL import ImageFilter\n",
        "import numpy as np\n",
        "\n",
        "pic_size =400\n",
        "\n",
        "image=Image.open(\"./sudoku.png\",)\n",
        "image = image.convert(\"L\")\n",
        "\n",
        "width,height  = image.size # get the image dimensions\n",
        "aspect_ratio = height/width # get the image aspect ratio\n",
        "base_size = pic_size,pic_size*aspect_ratio # get the base size we want\n",
        "\n",
        "image.thumbnail(base_size) \n",
        "image.save(\"./sudoku_small.png\")\n",
        "\n",
        "\n",
        "img = cv2.imread('./sudoku_small.png')\n",
        "gray = cv2.cvtColor(img,cv2.COLOR_BGR2GRAY)\n",
        "gaus_blur = cv2.GaussianBlur(gray,(1,1),cv2.BORDER_DEFAULT) \n",
        "\n",
        "thresh = cv2.adaptiveThreshold(gaus_blur, 255, cv2.ADAPTIVE_THRESH_MEAN_C, \n",
        "                                          cv2.THRESH_BINARY, 11, 5)   \n",
        "\n",
        "edges = cv2.Canny(thresh,50,150,apertureSize = 3)\n",
        "lines = cv2.HoughLinesP(edges,1,np.pi/180,20,100)\n",
        "for line in lines:\n",
        "  x1,y1,x2,y2 = line[0]\n",
        "  cv2.line(img,(x1,y1),(x2,y2),(0,0,255),2)\n",
        "\n",
        "\n",
        "small =cv2.resize(thresh,(252,252))\n",
        "cv2_imshow(small) \n",
        "#cv2.imwrite('houghlines3.jpg',image_array)\n"
      ],
      "execution_count": 44,
      "outputs": [
        {
          "output_type": "display_data",
          "data": {
            "image/png": "[encoded data removed]",
            "text/plain": [
              "<PIL.Image.Image image mode=L size=252x252 at 0x7FB89FC5C128>"
            ]
          },
          "metadata": {
            "tags": []
          }
        }
      ]
    },
    {
      "cell_type": "code",
      "metadata": {
        "id": "noq6x2sqlWYp",
        "colab_type": "code",
        "outputId": "b7ec09d4-a3c5-4ff2-8298-96712d5a162e",
        "colab": {
          "base_uri": "https://localhost:8080/",
          "height": 45
        }
      },
      "source": [
        "five =small[:28, :28]\n",
        "cv2_imshow(five)"
      ],
      "execution_count": 54,
      "outputs": [
        {
          "output_type": "display_data",
          "data": {
            "image/png": "[encoded data removed]",
            "text/plain": [
              "<PIL.Image.Image image mode=L size=28x28 at 0x7FB89FCEB898>"
            ]
          },
          "metadata": {
            "tags": []
          }
        }
      ]
    },
    {
      "cell_type": "code",
      "metadata": {
        "id": "IWDfiG92YJYV",
        "colab_type": "code",
        "colab": {}
      },
      "source": [
        "img"
      ],
      "execution_count": 0,
      "outputs": []
    },
    {
      "cell_type": "markdown",
      "metadata": {
        "id": "Az9qAzTNNU4m",
        "colab_type": "text"
      },
      "source": [
        "# **Deep Neural Networks Part**"
      ]
    },
    {
      "cell_type": "code",
      "metadata": {
        "id": "S0yiQTODsciS",
        "colab_type": "code",
        "outputId": "c55f85f6-57b7-4c8a-e603-bcd9e8e29d2d",
        "colab": {
          "base_uri": "https://localhost:8080/",
          "height": 263
        }
      },
      "source": [
        "#create our sampling data and labels\n",
        "import os\n",
        "import cv2\n",
        "from numpy import zeros\n",
        "import numpy as np\n",
        "def folder_number(num):\n",
        "  return str(num).zfill(3)\n",
        "folders=\"/content/English/Fnt/Sample{}\"\n",
        "count =0\n",
        "all_images=zeros((1016*10,28,28),dtype='uint8')\n",
        "all_labels = zeros((1016*10,),dtype='uint8')\n",
        "for i in range(1,11,1):\n",
        "  current_dir = folders.format(folder_number(i))\n",
        "  for image in os.listdir(current_dir):\n",
        "    image = os.path.join(current_dir,image)\n",
        "    image_array=cv2.imread(image)\n",
        "    gray = cv2.cvtColor(image_array,cv2.COLOR_BGR2GRAY)\n",
        "    try:\n",
        "      small=cv2.resize(gray,(28,28))\n",
        "      all_images[count]=small\n",
        "      all_labels[count]=i-1\n",
        "      count+=1\n",
        "    except Exception as e:\n",
        "      print(image,e)\n",
        "\n",
        "#randomize the two numpy arrays the same way\n",
        "random_order = np.arange(all_images.shape[0])\n",
        "np.random.shuffle(random_order)\n",
        "all_images=all_images[random_order]\n",
        "all_labels=all_labels[random_order]\n",
        "\n",
        "cv2_imshow(all_images[0])\n",
        "print(all_labels[0])\n",
        "\n",
        "train = int(all_images.shape[0]*.8)\n",
        "train_images = all_images[:train]\n",
        "train_labels =all_labels[:train]\n",
        "\n",
        "test_images = all_images[train+1:]\n",
        "test_labels =all_labels[train+1:]\n",
        "\n",
        "\n",
        "# Normalize the images.\n",
        "train_images = (train_images / 255) - 0.5\n",
        "test_images = (test_images / 255) - 0.5\n",
        "\n",
        "# Flatten the images.\n",
        "train_images = train_images.reshape((-1, 784))\n",
        "test_images = test_images.reshape((-1, 784))\n",
        "\n",
        "# Build the model.\n",
        "model = Sequential([\n",
        "  Dense(64, activation='relu', input_shape=(784,)),\n",
        "  Dense(64, activation='relu'),\n",
        "  Dense(10, activation='softmax'),\n",
        "])\n",
        "\n",
        "# Compile the model.\n",
        "model.compile(\n",
        "  optimizer='adam',\n",
        "  loss='categorical_crossentropy',\n",
        "  metrics=['accuracy'],\n",
        ")\n",
        "\n",
        "# Train the model.\n",
        "model.fit(\n",
        "  train_images,\n",
        "  to_categorical(train_labels),\n",
        "  epochs=5,\n",
        "  batch_size=32,\n",
        ")\n",
        "\n",
        "\n"
      ],
      "execution_count": 42,
      "outputs": [
        {
          "output_type": "display_data",
          "data": {
            "image/png": "[encoded data removed]",
            "text/plain": [
              "<PIL.Image.Image image mode=L size=28x28 at 0x7FB8A00C2320>"
            ]
          },
          "metadata": {
            "tags": []
          }
        },
        {
          "output_type": "stream",
          "text": [
            "8\n",
            "Epoch 1/5\n",
            "8128/8128 [==============================] - 1s 88us/step - loss: 0.5000 - acc: 0.8610\n",
            "Epoch 2/5\n",
            "8128/8128 [==============================] - 0s 61us/step - loss: 0.1603 - acc: 0.9524\n",
            "Epoch 3/5\n",
            "8128/8128 [==============================] - 0s 61us/step - loss: 0.1113 - acc: 0.9663\n",
            "Epoch 4/5\n",
            "8128/8128 [==============================] - 0s 61us/step - loss: 0.0965 - acc: 0.9691\n",
            "Epoch 5/5\n",
            "8128/8128 [==============================] - 0s 60us/step - loss: 0.0839 - acc: 0.9748\n"
          ],
          "name": "stdout"
        },
        {
          "output_type": "execute_result",
          "data": {
            "text/plain": [
              "<keras.callbacks.History at 0x7fb8a00c2a20>"
            ]
          },
          "metadata": {
            "tags": []
          },
          "execution_count": 42
        }
      ]
    },
    {
      "cell_type": "code",
      "metadata": {
        "id": "kSMi3fXTJlSA",
        "colab_type": "code",
        "colab": {
          "base_uri": "https://localhost:8080/",
          "height": 35
        },
        "outputId": "afcb4bbf-1f4c-44de-d9c0-e6d284d21786"
      },
      "source": [
        "train"
      ],
      "execution_count": 41,
      "outputs": [
        {
          "output_type": "execute_result",
          "data": {
            "text/plain": [
              "8128.0"
            ]
          },
          "metadata": {
            "tags": []
          },
          "execution_count": 41
        }
      ]
    },
    {
      "cell_type": "code",
      "metadata": {
        "id": "khoN50gZNbm5",
        "colab_type": "code",
        "colab": {}
      },
      "source": [
        "import numpy as np\n",
        "import mnist\n",
        "from keras.models import Sequential\n",
        "from keras.layers import Dense\n",
        "from keras.utils import to_categorical\n",
        "\n",
        "train_images = mnist.train_images()\n",
        "train_labels = mnist.train_labels()\n",
        "test_images = mnist.test_images()\n",
        "test_labels = mnist.test_labels()\n",
        "\n",
        "# Normalize the images.\n",
        "train_images = (train_images / 255) - 0.5\n",
        "test_images = (test_images / 255) - 0.5\n",
        "\n",
        "# Flatten the images.\n",
        "train_images = train_images.reshape((-1, 784))\n",
        "test_images = test_images.reshape((-1, 784))\n",
        "\n",
        "# Build the model.\n",
        "model = Sequential([\n",
        "  Dense(64, activation='relu', input_shape=(784,)),\n",
        "  Dense(64, activation='relu'),\n",
        "  Dense(10, activation='softmax'),\n",
        "])\n",
        "\n",
        "# Compile the model.\n",
        "model.compile(\n",
        "  optimizer='adam',\n",
        "  loss='categorical_crossentropy',\n",
        "  metrics=['accuracy'],\n",
        ")\n",
        "\n",
        "# Train the model.\n",
        "model.fit(\n",
        "  train_images,\n",
        "  to_categorical(train_labels),\n",
        "  epochs=5,\n",
        "  batch_size=32,\n",
        ")"
      ],
      "execution_count": 0,
      "outputs": []
    },
    {
      "cell_type": "code",
      "metadata": {
        "id": "iqsY2jXbQB71",
        "colab_type": "code",
        "colab": {
          "base_uri": "https://localhost:8080/",
          "height": 72
        },
        "outputId": "46f59dd0-1155-4d3f-bde5-a4fd3df8667a"
      },
      "source": [
        "model.evaluate(\n",
        "  test_images,\n",
        "  to_categorical(test_labels)\n",
        ")\n",
        "\n",
        "model.save_weights('model.h5')\n",
        "\n",
        "# Predict on the first 5 test images.\n",
        "predictions = model.predict(test_images[:5])\n",
        "\n",
        "# Print our model's predictions.\n",
        "print(np.argmax(predictions, axis=1)) # [7, 2, 1, 0, 4]\n",
        "\n",
        "# Check our predictions against the ground truths.\n",
        "print(test_labels[:5]) # [7, 2, 1, 0, 4]\n",
        "\n",
        "\n",
        "\n",
        "\n"
      ],
      "execution_count": 53,
      "outputs": [
        {
          "output_type": "stream",
          "text": [
            "2031/2031 [==============================] - 0s 49us/step\n",
            "[4 0 8 9 9]\n",
            "[4 0 8 9 9]\n"
          ],
          "name": "stdout"
        }
      ]
    },
    {
      "cell_type": "code",
      "metadata": {
        "id": "4Bb9x4gOmgqm",
        "colab_type": "code",
        "outputId": "d5fc9a9f-1ed4-4be9-8c34-a5eb8103e142",
        "colab": {
          "base_uri": "https://localhost:8080/",
          "height": 35
        }
      },
      "source": [
        "five = (five / 255) - 0.5\n",
        "five= five.reshape((-1, 784))\n",
        "predictions=model.predict(five)\n",
        "predictions\n",
        "print(np.argmax(predictions, axis=1))"
      ],
      "execution_count": 55,
      "outputs": [
        {
          "output_type": "stream",
          "text": [
            "[5]\n"
          ],
          "name": "stdout"
        }
      ]
    }
  ]
}