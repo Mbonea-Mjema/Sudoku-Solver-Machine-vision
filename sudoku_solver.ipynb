{
  "nbformat": 4,
  "nbformat_minor": 0,
  "metadata": {
    "colab": {
      "name": "sudoku solver",
      "provenance": [],
      "collapsed_sections": [
        "f8oZ_y-SNoJ6",
        "kAmvK_9mZdb2"
      ],
      "toc_visible": true,
      "include_colab_link": true
    },
    "kernelspec": {
      "name": "python3",
      "display_name": "Python 3"
    },
    "accelerator": "GPU"
  },
  "cells": [
    {
      "cell_type": "markdown",
      "metadata": {
        "id": "view-in-github",
        "colab_type": "text"
      },
      "source": [
        "<a href=\"https://colab.research.google.com/github/Mbonea-Mjema/Sudoku-Solver-Machine-vision/blob/master/sudoku_solver.ipynb\" target=\"_parent\"><img src=\"https://colab.research.google.com/assets/colab-badge.svg\" alt=\"Open In Colab\"/></a>"
      ]
    },
    {
      "cell_type": "code",
      "metadata": {
        "id": "LtzkFm_IVg-Q",
        "colab_type": "code",
        "colab": {}
      },
      "source": [
        "#To do list\n",
        "# - install the required modules\n",
        "# - find the grid\n",
        "# - get the grid values\n",
        "# - put the values in a matrix of somesort\n",
        "# - solve the sudoku puzzle\n",
        "# - write the answers you got\n",
        "\n",
        "\n"
      ],
      "execution_count": 0,
      "outputs": []
    },
    {
      "cell_type": "markdown",
      "metadata": {
        "id": "f8oZ_y-SNoJ6",
        "colab_type": "text"
      },
      "source": [
        "# Install the required modules"
      ]
    },
    {
      "cell_type": "code",
      "metadata": {
        "id": "Z-MboUr6NvSC",
        "colab_type": "code",
        "colab": {}
      },
      "source": [
        "!sudo apt-get install aria2c"
      ],
      "execution_count": 0,
      "outputs": []
    },
    {
      "cell_type": "markdown",
      "metadata": {
        "id": "kAmvK_9mZdb2",
        "colab_type": "text"
      },
      "source": [
        "## **Download the required files**"
      ]
    },
    {
      "cell_type": "code",
      "metadata": {
        "id": "mh2uD8sIZxxf",
        "colab_type": "code",
        "colab": {}
      },
      "source": [
        "!wget https://upload.wikimedia.org/wikipedia/commons/thumb/e/e0/Sudoku_Puzzle_by_L2G-20050714_standardized_layout.svg/1200px-Sudoku_Puzzle_by_L2G-20050714_standardized_layout.svg.png -O sudoku.png\n",
        "#!wget -qO- http://www.ee.surrey.ac.uk/CVSSP/demos/chars74k/EnglishFnt.tgz | tar zxvf -\n",
        "#!wget http://pi.math.cornell.edu/~mec/Summer2009/meerkamp/Site/Introduction_files/intro.png -O sudoku.png"
      ],
      "execution_count": 0,
      "outputs": []
    },
    {
      "cell_type": "code",
      "metadata": {
        "id": "dWINA4yFwkk1",
        "colab_type": "code",
        "colab": {}
      },
      "source": [
        "from google.colab import drive\n",
        "drive.mount('/content/drive')"
      ],
      "execution_count": 0,
      "outputs": []
    },
    {
      "cell_type": "markdown",
      "metadata": {
        "id": "Az9qAzTNNU4m",
        "colab_type": "text"
      },
      "source": [
        "# **Deep Neural Networks Part**"
      ]
    },
    {
      "cell_type": "markdown",
      "metadata": {
        "id": "COUbeX8zVBtz",
        "colab_type": "text"
      },
      "source": [
        "Create training and testing data with labels\n"
      ]
    },
    {
      "cell_type": "code",
      "metadata": {
        "id": "S0yiQTODsciS",
        "colab_type": "code",
        "outputId": "323d985f-0303-4378-fd70-7fd5f2238384",
        "colab": {
          "base_uri": "https://localhost:8080/",
          "height": 299
        }
      },
      "source": [
        "#create our sampling data and labels\n",
        "import os\n",
        "import cv2\n",
        "from numpy import zeros\n",
        "import numpy as np\n",
        "from keras.models import Sequential\n",
        "from keras.layers import Dense\n",
        "from keras.utils import to_categorical\n",
        "\n",
        "\n",
        "def folder_number(num):\n",
        "  return str(num).zfill(3)\n",
        "folders=\"/content/English/Fnt/Sample{}\"\n",
        "\n",
        "count =0 # counting variable\n",
        "height =28\n",
        "width =28\n",
        "image_count  = 1016*10 #number of images\n",
        "dim  = image_count,height,width #dimension of numpy array\n",
        "\n",
        "# create numpy array to store all the data\n",
        "all_images=zeros(dim,dtype='uint8') \n",
        "all_labels = zeros((image_count,),dtype='uint8')\n",
        "\n",
        "\n",
        "# loop through the images\n",
        "for i in range(1,11,1):\n",
        "  current_dir = folders.format(folder_number(i))\n",
        "  for image in os.listdir(current_dir):\n",
        "    image = os.path.join(current_dir,image) # get the image path\n",
        "\n",
        "    image_array=cv2.imread(image) #read the image (converts it into a matrix)\n",
        "    gray = cv2.cvtColor(image_array,cv2.COLOR_BGRA2GRAY) # convert the image to grayscale\n",
        "    small=cv2.resize(gray,(28,28))  # converts it into a 28 x 28 matrix\n",
        "    all_images[count]=small    # add the image to the image array\n",
        "    all_labels[count]=i-1      # add the lable of the image to the array\n",
        "    count+=1\n",
        "\n",
        "#randomize the two numpy arrays the same way\n",
        "random_order = np.arange(all_images.shape[0])\n",
        "np.random.shuffle(random_order)\n",
        "all_images=all_images[random_order]\n",
        "all_labels=all_labels[random_order]\n",
        "\n",
        "cv2_imshow(all_images[100])\n",
        "print(all_labels[100])\n",
        "\n",
        "train = int(all_images.shape[0]*.8)\n",
        "train_images = all_images[:train]\n",
        "train_labels =all_labels[:train]\n",
        "\n",
        "test_images = all_images[train+1:]\n",
        "test_labels =all_labels[train+1:]\n",
        "\n",
        "\n",
        "# Normalize the images.\n",
        "train_images = (train_images / 255) - 0.5\n",
        "test_images = (test_images / 255) - 0.5\n",
        "\n",
        "# Flatten the images.\n",
        "train_images = train_images.reshape((-1, 784))\n",
        "test_images = test_images.reshape((-1, 784))\n",
        "\n",
        "# Build the model.\n",
        "model = Sequential([\n",
        "  Dense(16, activation='relu', input_shape=(784,)),\n",
        "  Dense(16, activation='relu'),\n",
        "  Dense(10, activation='softmax'),\n",
        "])\n",
        "\n",
        "# Compile the model.\n",
        "model.compile(\n",
        "  optimizer='adam',\n",
        "  loss='categorical_crossentropy',\n",
        "  metrics=['accuracy'],\n",
        ")\n",
        "\n",
        "# Train the model.\n",
        "model.fit(\n",
        "  train_images,\n",
        "  to_categorical(train_labels),\n",
        "  epochs=5,\n",
        "  batch_size=32,\n",
        ")\n",
        "\n",
        "model.evaluate(\n",
        "  test_images,\n",
        "  to_categorical(test_labels)\n",
        ")\n",
        "\n",
        "#save the model\n",
        "model.save_weights('model.h5')\n",
        "\n",
        "# Predict on the first 5 test images.\n",
        "predictions = model.predict(test_images[:5])\n",
        "\n",
        "# Print our model's predictions.\n",
        "print(np.argmax(predictions, axis=1)) # [4, 0, 8, 9, 9]\n",
        "\n",
        "# Check our predictions against the ground truths.\n",
        "print(test_labels[:5]) # [4, 0, 8, 9, 9]\n",
        "\n",
        "\n",
        "\n"
      ],
      "execution_count": 164,
      "outputs": [
        {
          "output_type": "display_data",
          "data": {
            "image/png": "[encoded data removed]",
            "text/plain": [
              "<PIL.Image.Image image mode=L size=28x28 at 0x7F887B34D0B8>"
            ]
          },
          "metadata": {
            "tags": []
          }
        },
        {
          "output_type": "stream",
          "text": [
            "2\n",
            "Epoch 1/5\n",
            "8128/8128 [==============================] - 2s 269us/step - loss: 1.1281 - acc: 0.6841\n",
            "Epoch 2/5\n",
            "8128/8128 [==============================] - 1s 159us/step - loss: 0.3472 - acc: 0.9107\n",
            "Epoch 3/5\n",
            "8128/8128 [==============================] - 1s 158us/step - loss: 0.2527 - acc: 0.9312\n",
            "Epoch 4/5\n",
            "8128/8128 [==============================] - 1s 161us/step - loss: 0.2059 - acc: 0.9419\n",
            "Epoch 5/5\n",
            "8128/8128 [==============================] - 1s 159us/step - loss: 0.1805 - acc: 0.9483\n",
            "2031/2031 [==============================] - 0s 212us/step\n",
            "[4 4 1 6 2]\n",
            "[4 4 1 6 2]\n"
          ],
          "name": "stdout"
        }
      ]
    },
    {
      "cell_type": "markdown",
      "metadata": {
        "id": "hH8WT4N1Lvax",
        "colab_type": "text"
      },
      "source": [
        "#Image processing and finding the puzzle\n",
        "\n",
        "\n"
      ]
    },
    {
      "cell_type": "code",
      "metadata": {
        "id": "qHoTjRt7WRBE",
        "colab_type": "code",
        "colab": {}
      },
      "source": [
        "import PIL\n",
        "import cv2\n",
        "from google.colab.patches import cv2_imshow\n",
        "from numpy import array\n",
        "from PIL import Image\n",
        "from PIL import ImageFilter\n",
        "import numpy as np\n",
        "\n",
        "pic_size =400\n",
        "\n",
        "image=Image.open(\"./sudoku.png\",)\n",
        "image = image.convert(\"L\")\n",
        "\n",
        "width,height  = image.size # get the image dimensions\n",
        "aspect_ratio = height/width # get the image aspect ratio\n",
        "base_size = pic_size,pic_size*aspect_ratio # get the base size we want\n",
        "\n",
        "image.thumbnail(base_size) \n",
        "image.save(\"./sudoku_small.png\")\n",
        "\n",
        "\n",
        "img = cv2.imread('./sudoku_small.png')\n",
        "small_img =small =cv2.resize(img,(252,252))\n",
        "gray = cv2.cvtColor(img,cv2.COLOR_BGR2GRAY)\n",
        "#gaus_blur = cv2.GaussianBlur(gray,(1,1),cv2.BORDER_DEFAULT) \n",
        "\n",
        "thresh = cv2.adaptiveThreshold(gray, 255, cv2.ADAPTIVE_THRESH_MEAN_C, \n",
        "                                          cv2.THRESH_BINARY, 11, 5)   \n",
        "\n",
        "edges = cv2.Canny(thresh,50,150,apertureSize = 3)\n",
        "lines = cv2.HoughLinesP(edges,1,np.pi/180,20,100)\n",
        "for line in lines:\n",
        "  x1,y1,x2,y2 = line[0]\n",
        "  #cv2.line(img,(x1,y1),(x2,y2),(0,0,255),2)\n",
        "\n",
        "\n",
        "small =cv2.resize(thresh,(252,252))\n",
        "\n"
      ],
      "execution_count": 0,
      "outputs": []
    },
    {
      "cell_type": "markdown",
      "metadata": {
        "id": "sk75VPwDMvEW",
        "colab_type": "text"
      },
      "source": [
        "## Extract Numbers and Construct Grid"
      ]
    },
    {
      "cell_type": "code",
      "metadata": {
        "id": "noq6x2sqlWYp",
        "colab_type": "code",
        "outputId": "191d3499-b4c6-4b35-d003-0fe8539d860f",
        "colab": {
          "base_uri": "https://localhost:8080/",
          "height": 1000
        }
      },
      "source": [
        "from pprint import  PrettyPrinter as PP\n",
        "pp=PP()\n",
        "height,width=small.shape\n",
        "y1 =0\n",
        "count=0\n",
        "\n",
        "images=zeros((81,28,28),dtype='uint8')\n",
        "for y2 in range(28,height+1,28):\n",
        "  x1 =0\n",
        "  for x2 in range(28,width+1,28):\n",
        "    cut =small[y1+2:y2-2,x1+2:x2-2]\n",
        "    cut =cv2.resize(cut,(28,28))\n",
        "    #cv2_imshow(cut)\n",
        "    images[count]=cut\n",
        "    count+=1\n",
        "    x1=x2\n",
        "  y1=y2\n",
        "\n",
        "#cv2_imshow(small)\n",
        "empty=[]\n",
        "temp_grid =zeros((81,),dtype=\"uint8\")\n",
        "for i in range(81):\n",
        "  temp =images[i]\n",
        "  if np.average(temp)<247:\n",
        "\n",
        "    cv2_imshow(temp)\n",
        "  temp = (temp/ 255) - 0.5\n",
        "  temp = temp.reshape((-1, 784))\n",
        "  #print(np.average(temp))\n",
        "  if  np.average(temp)==0.5:\n",
        "    empty.append(i)\n",
        "    continue\n",
        "  else:\n",
        "    predictions = model.predict(temp)\n",
        "    number =np.argmax(predictions, axis=1)[0]\n",
        "    temp_grid[i]=number\n",
        "    print(number)\n",
        "\n",
        "grid=temp_grid.reshape((9,9)).tolist()\n",
        "\n",
        "\n"
      ],
      "execution_count": 168,
      "outputs": [
        {
          "output_type": "display_data",
          "data": {
            "image/png": "[encoded data removed]",
            "text/plain": [
              "<PIL.Image.Image image mode=L size=28x28 at 0x7F887B334C18>"
            ]
          },
          "metadata": {
            "tags": []
          }
        },
        {
          "output_type": "stream",
          "text": [
            "5\n"
          ],
          "name": "stdout"
        },
        {
          "output_type": "display_data",
          "data": {
            "image/png": "[encoded data removed]",
            "text/plain": [
              "<PIL.Image.Image image mode=L size=28x28 at 0x7F887B3346D8>"
            ]
          },
          "metadata": {
            "tags": []
          }
        },
        {
          "output_type": "stream",
          "text": [
            "3\n"
          ],
          "name": "stdout"
        },
        {
          "output_type": "display_data",
          "data": {
            "image/png": "[encoded data removed]",
            "text/plain": [
              "<PIL.Image.Image image mode=L size=28x28 at 0x7F887B334E10>"
            ]
          },
          "metadata": {
            "tags": []
          }
        },
        {
          "output_type": "stream",
          "text": [
            "7\n"
          ],
          "name": "stdout"
        },
        {
          "output_type": "display_data",
          "data": {
            "image/png": "[encoded data removed]",
            "text/plain": [
              "<PIL.Image.Image image mode=L size=28x28 at 0x7F887B334630>"
            ]
          },
          "metadata": {
            "tags": []
          }
        },
        {
          "output_type": "stream",
          "text": [
            "6\n"
          ],
          "name": "stdout"
        },
        {
          "output_type": "display_data",
          "data": {
            "image/png": "[encoded data removed]",
            "text/plain": [
              "<PIL.Image.Image image mode=L size=28x28 at 0x7F887B3345C0>"
            ]
          },
          "metadata": {
            "tags": []
          }
        },
        {
          "output_type": "stream",
          "text": [
            "1\n"
          ],
          "name": "stdout"
        },
        {
          "output_type": "display_data",
          "data": {
            "image/png": "[encoded data removed]",
            "text/plain": [
              "<PIL.Image.Image image mode=L size=28x28 at 0x7F887B334BA8>"
            ]
          },
          "metadata": {
            "tags": []
          }
        },
        {
          "output_type": "stream",
          "text": [
            "9\n"
          ],
          "name": "stdout"
        },
        {
          "output_type": "display_data",
          "data": {
            "image/png": "[encoded data removed]",
            "text/plain": [
              "<PIL.Image.Image image mode=L size=28x28 at 0x7F887B334CC0>"
            ]
          },
          "metadata": {
            "tags": []
          }
        },
        {
          "output_type": "stream",
          "text": [
            "5\n"
          ],
          "name": "stdout"
        },
        {
          "output_type": "display_data",
          "data": {
            "image/png": "[encoded data removed]",
            "text/plain": [
              "<PIL.Image.Image image mode=L size=28x28 at 0x7F887B334198>"
            ]
          },
          "metadata": {
            "tags": []
          }
        },
        {
          "output_type": "stream",
          "text": [
            "9\n"
          ],
          "name": "stdout"
        },
        {
          "output_type": "display_data",
          "data": {
            "image/png": "[encoded data removed]",
            "text/plain": [
              "<PIL.Image.Image image mode=L size=28x28 at 0x7F887B334160>"
            ]
          },
          "metadata": {
            "tags": []
          }
        },
        {
          "output_type": "stream",
          "text": [
            "8\n"
          ],
          "name": "stdout"
        },
        {
          "output_type": "display_data",
          "data": {
            "image/png": "[encoded data removed]",
            "text/plain": [
              "<PIL.Image.Image image mode=L size=28x28 at 0x7F887B334CF8>"
            ]
          },
          "metadata": {
            "tags": []
          }
        },
        {
          "output_type": "stream",
          "text": [
            "6\n"
          ],
          "name": "stdout"
        },
        {
          "output_type": "display_data",
          "data": {
            "image/png": "[encoded data removed]",
            "text/plain": [
              "<PIL.Image.Image image mode=L size=28x28 at 0x7F887B3349B0>"
            ]
          },
          "metadata": {
            "tags": []
          }
        },
        {
          "output_type": "stream",
          "text": [
            "8\n"
          ],
          "name": "stdout"
        },
        {
          "output_type": "display_data",
          "data": {
            "image/png": "[encoded data removed]",
            "text/plain": [
              "<PIL.Image.Image image mode=L size=28x28 at 0x7F887B334E80>"
            ]
          },
          "metadata": {
            "tags": []
          }
        },
        {
          "output_type": "stream",
          "text": [
            "6\n"
          ],
          "name": "stdout"
        },
        {
          "output_type": "display_data",
          "data": {
            "image/png": "[encoded data removed]",
            "text/plain": [
              "<PIL.Image.Image image mode=L size=28x28 at 0x7F887B334BE0>"
            ]
          },
          "metadata": {
            "tags": []
          }
        },
        {
          "output_type": "stream",
          "text": [
            "3\n"
          ],
          "name": "stdout"
        },
        {
          "output_type": "display_data",
          "data": {
            "image/png": "[encoded data removed]",
            "text/plain": [
              "<PIL.Image.Image image mode=L size=28x28 at 0x7F887B45DB00>"
            ]
          },
          "metadata": {
            "tags": []
          }
        },
        {
          "output_type": "stream",
          "text": [
            "4\n"
          ],
          "name": "stdout"
        },
        {
          "output_type": "display_data",
          "data": {
            "image/png": "[encoded data removed]",
            "text/plain": [
              "<PIL.Image.Image image mode=L size=28x28 at 0x7F887B33C2B0>"
            ]
          },
          "metadata": {
            "tags": []
          }
        },
        {
          "output_type": "stream",
          "text": [
            "8\n"
          ],
          "name": "stdout"
        },
        {
          "output_type": "display_data",
          "data": {
            "image/png": "[encoded data removed]",
            "text/plain": [
              "<PIL.Image.Image image mode=L size=28x28 at 0x7F887B3344A8>"
            ]
          },
          "metadata": {
            "tags": []
          }
        },
        {
          "output_type": "stream",
          "text": [
            "3\n"
          ],
          "name": "stdout"
        },
        {
          "output_type": "display_data",
          "data": {
            "image/png": "[encoded data removed]",
            "text/plain": [
              "<PIL.Image.Image image mode=L size=28x28 at 0x7F887B3347F0>"
            ]
          },
          "metadata": {
            "tags": []
          }
        },
        {
          "output_type": "stream",
          "text": [
            "1\n"
          ],
          "name": "stdout"
        },
        {
          "output_type": "display_data",
          "data": {
            "image/png": "[encoded data removed]",
            "text/plain": [
              "<PIL.Image.Image image mode=L size=28x28 at 0x7F887B334898>"
            ]
          },
          "metadata": {
            "tags": []
          }
        },
        {
          "output_type": "stream",
          "text": [
            "7\n"
          ],
          "name": "stdout"
        },
        {
          "output_type": "display_data",
          "data": {
            "image/png": "[encoded data removed]",
            "text/plain": [
              "<PIL.Image.Image image mode=L size=28x28 at 0x7F887B334E80>"
            ]
          },
          "metadata": {
            "tags": []
          }
        },
        {
          "output_type": "stream",
          "text": [
            "2\n"
          ],
          "name": "stdout"
        },
        {
          "output_type": "display_data",
          "data": {
            "image/png": "[encoded data removed]",
            "text/plain": [
              "<PIL.Image.Image image mode=L size=28x28 at 0x7F887B3347F0>"
            ]
          },
          "metadata": {
            "tags": []
          }
        },
        {
          "output_type": "stream",
          "text": [
            "6\n"
          ],
          "name": "stdout"
        },
        {
          "output_type": "display_data",
          "data": {
            "image/png": "[encoded data removed]",
            "text/plain": [
              "<PIL.Image.Image image mode=L size=28x28 at 0x7F887B3349B0>"
            ]
          },
          "metadata": {
            "tags": []
          }
        },
        {
          "output_type": "stream",
          "text": [
            "6\n"
          ],
          "name": "stdout"
        },
        {
          "output_type": "display_data",
          "data": {
            "image/png": "[encoded data removed]",
            "text/plain": [
              "<PIL.Image.Image image mode=L size=28x28 at 0x7F887B334CF8>"
            ]
          },
          "metadata": {
            "tags": []
          }
        },
        {
          "output_type": "stream",
          "text": [
            "2\n"
          ],
          "name": "stdout"
        },
        {
          "output_type": "display_data",
          "data": {
            "image/png": "[encoded data removed]",
            "text/plain": [
              "<PIL.Image.Image image mode=L size=28x28 at 0x7F887B334160>"
            ]
          },
          "metadata": {
            "tags": []
          }
        },
        {
          "output_type": "stream",
          "text": [
            "8\n"
          ],
          "name": "stdout"
        },
        {
          "output_type": "display_data",
          "data": {
            "image/png": "[encoded data removed]",
            "text/plain": [
              "<PIL.Image.Image image mode=L size=28x28 at 0x7F887B334198>"
            ]
          },
          "metadata": {
            "tags": []
          }
        },
        {
          "output_type": "stream",
          "text": [
            "4\n"
          ],
          "name": "stdout"
        },
        {
          "output_type": "display_data",
          "data": {
            "image/png": "[encoded data removed]",
            "text/plain": [
              "<PIL.Image.Image image mode=L size=28x28 at 0x7F887B334CC0>"
            ]
          },
          "metadata": {
            "tags": []
          }
        },
        {
          "output_type": "stream",
          "text": [
            "1\n"
          ],
          "name": "stdout"
        },
        {
          "output_type": "display_data",
          "data": {
            "image/png": "[encoded data removed]",
            "text/plain": [
              "<PIL.Image.Image image mode=L size=28x28 at 0x7F887B334BA8>"
            ]
          },
          "metadata": {
            "tags": []
          }
        },
        {
          "output_type": "stream",
          "text": [
            "9\n"
          ],
          "name": "stdout"
        },
        {
          "output_type": "display_data",
          "data": {
            "image/png": "[encoded data removed]",
            "text/plain": [
              "<PIL.Image.Image image mode=L size=28x28 at 0x7F887B3345C0>"
            ]
          },
          "metadata": {
            "tags": []
          }
        },
        {
          "output_type": "stream",
          "text": [
            "5\n"
          ],
          "name": "stdout"
        },
        {
          "output_type": "display_data",
          "data": {
            "image/png": "[encoded data removed]",
            "text/plain": [
              "<PIL.Image.Image image mode=L size=28x28 at 0x7F887B334630>"
            ]
          },
          "metadata": {
            "tags": []
          }
        },
        {
          "output_type": "stream",
          "text": [
            "8\n"
          ],
          "name": "stdout"
        },
        {
          "output_type": "display_data",
          "data": {
            "image/png": "[encoded data removed]",
            "text/plain": [
              "<PIL.Image.Image image mode=L size=28x28 at 0x7F887B334E10>"
            ]
          },
          "metadata": {
            "tags": []
          }
        },
        {
          "output_type": "stream",
          "text": [
            "7\n"
          ],
          "name": "stdout"
        },
        {
          "output_type": "display_data",
          "data": {
            "image/png": "[encoded data removed]",
            "text/plain": [
              "<PIL.Image.Image image mode=L size=28x28 at 0x7F887B3346D8>"
            ]
          },
          "metadata": {
            "tags": []
          }
        },
        {
          "output_type": "stream",
          "text": [
            "9\n"
          ],
          "name": "stdout"
        }
      ]
    },
    {
      "cell_type": "code",
      "metadata": {
        "id": "jSDcgeq8Mksx",
        "colab_type": "code",
        "colab": {}
      },
      "source": [
        ""
      ],
      "execution_count": 0,
      "outputs": []
    },
    {
      "cell_type": "markdown",
      "metadata": {
        "id": "G3_TSR_NMnB2",
        "colab_type": "text"
      },
      "source": [
        "# Solving the puzzle"
      ]
    },
    {
      "cell_type": "code",
      "metadata": {
        "id": "ZccRmORFM9Ad",
        "colab_type": "code",
        "colab": {
          "base_uri": "https://localhost:8080/",
          "height": 433
        },
        "outputId": "3789891e-1772-48c6-9c21-65a8ce85f979"
      },
      "source": [
        "# solve\n",
        "from prettytable import PrettyTable as pt \n",
        "sgrid=pt()\n",
        "count=0\n",
        "from copy import deepcopy as snap\n",
        "from pprint import PrettyPrinter \n",
        "pp =PrettyPrinter()\n",
        "def check_row_column(x,y,temp_grid=grid):\n",
        "    possible=[]\n",
        "    ## checking all the columns\n",
        "    for guess in range(1,10):\n",
        "        wrong=False\n",
        "        for yi in range(0,9):\n",
        "            if guess == temp_grid[x][yi]:\n",
        "                wrong=True\n",
        "                break\n",
        "        if not wrong:\n",
        "            possible.append(guess)\n",
        "\n",
        "    better=[]\n",
        "    for value in possible:\n",
        "        wrong=False\n",
        "        for xi in range(0,9):\n",
        "            if value == temp_grid[xi][y]:\n",
        "                wrong=True\n",
        "                break\n",
        "        if not wrong:\n",
        "            better.append(value)\n",
        "\n",
        "    return better\n",
        "\n",
        "def check_cube(x,y,temp_grid=grid,possible=[1,2,3,4,5,6,7,8,9]):\n",
        "    \n",
        "    topX,topY=3*(x//3),3*(y//3)\n",
        "    better=[]\n",
        "    for value in possible:\n",
        "        wrong=False\n",
        "        for x in range(topX,topX+3):\n",
        "            for y in range(topY,topY+3):\n",
        "                if temp_grid[x][y] == value:\n",
        "                    wrong=True\n",
        "                    break\n",
        "            if wrong:\n",
        "                break\n",
        "        if not wrong:\n",
        "            better.append(value)                                   \n",
        "    return better\n",
        "\n",
        "def cell_values(cell,grid=grid):\n",
        "    x,y=cell\n",
        "    pos=[]\n",
        "    pos=check_row_column(x,y,grid)\n",
        "    values =check_cube(x,y,grid,pos)\n",
        "    return values\n",
        "\n",
        "\n",
        "\n",
        "def find_empty_cells(temp_grid):\n",
        "    empty_cells=[]\n",
        "    for x in range(0,9): \n",
        "        for y in range (0,9):\n",
        "            if  temp_grid[x][y]==0:\n",
        "                empty_cells.append((x,y))\n",
        "    return empty_cells\n",
        "\n",
        "def markuper(temp_grid=grid):\n",
        "    mark=[]\n",
        "    cells=find_empty_cells(grid)\n",
        "    for cell in cells:\n",
        "        values=cell_values(cell,grid)\n",
        "        mark.append([cell,values])\n",
        "    return mark\n",
        "\n",
        "def simplifier (markup):\n",
        "    found=False\n",
        "    for c in markup:\n",
        "        cell,values=c\n",
        "        if len(values)==1:\n",
        "            found=True\n",
        "            grid[cell[0]][cell[1]]=values[0]\n",
        "                             \n",
        "\n",
        "    if not found:\n",
        "        return markup\n",
        "    else:        \n",
        "        return simplifier(markuper(grid))\n",
        "\n",
        "def Valid(grid):\n",
        "    count=0\n",
        "    for i in range(1,10):\n",
        "        for r in grid:\n",
        "            for t in r:\n",
        "                if i==t:\n",
        "                    count+=1\n",
        "        for c in range(0,9):\n",
        "            if r[c]==i:\n",
        "\n",
        "                count+=1\n",
        "    if count >2:\n",
        "        return False\n",
        "    else:\n",
        "        return True\n",
        "ans=simplifier(markuper(grid))\n",
        "# pp.pprint(grid)\n",
        "npa = np.asarray(grid, dtype=\"uint8\")\n",
        "npa=npa.reshape((81))\n",
        "npa\n",
        "small_temp = small\n",
        "for i in empty:\n",
        "  row = i//9\n",
        "  column = i -(row*9)\n",
        "  y1 = row*28\n",
        "  x1 = column*28\n",
        "  y2 = y1+28\n",
        "  \n",
        "  font = cv2.FONT_HERSHEY_SIMPLEX\n",
        "  number = npa[i]\n",
        "  #print(i,number)\n",
        "  cv2.putText(small_img,str(number),(x1+5,y2-5), font, 0.8,(0,0,255),2)\n",
        "pp.pprint(grid)\n",
        "cv2_imshow(small_img)\n",
        "\n"
      ],
      "execution_count": 169,
      "outputs": [
        {
          "output_type": "stream",
          "text": [
            "[[5, 3, 4, 6, 7, 8, 9, 1, 2],\n",
            " [6, 7, 2, 1, 9, 5, 3, 4, 8],\n",
            " [1, 9, 8, 3, 4, 2, 5, 6, 7],\n",
            " [8, 5, 9, 7, 6, 1, 4, 2, 3],\n",
            " [4, 2, 6, 8, 5, 3, 7, 9, 1],\n",
            " [7, 1, 3, 9, 2, 4, 8, 5, 6],\n",
            " [9, 6, 1, 5, 3, 7, 2, 8, 4],\n",
            " [2, 8, 7, 4, 1, 9, 6, 3, 5],\n",
            " [3, 4, 5, 2, 8, 6, 1, 7, 9]]\n"
          ],
          "name": "stdout"
        },
        {
          "output_type": "display_data",
          "data": {
            "image/png": "[encoded data removed]",
            "text/plain": [
              "<PIL.Image.Image image mode=RGB size=252x252 at 0x7F887AAF2898>"
            ]
          },
          "metadata": {
            "tags": []
          }
        }
      ]
    }
  ]
}